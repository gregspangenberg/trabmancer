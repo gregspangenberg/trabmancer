{
 "cells": [
  {
   "cell_type": "code",
   "execution_count": 17,
   "metadata": {},
   "outputs": [],
   "source": [
    "import pandas as pd\n",
    "import matplotlib.pyplot as plt\n",
    "import numpy as np\n",
    "\n",
    "from sklearn.model_selection import train_test_split, GridSearchCV\n",
    "import sklearn.preprocessing\n",
    "import sklearn.metrics\n",
    "import sklearn.linear_model\n"
   ]
  },
  {
   "cell_type": "code",
   "execution_count": 18,
   "metadata": {},
   "outputs": [
    {
     "data": {
      "text/html": [
       "<div>\n",
       "<style scoped>\n",
       "    .dataframe tbody tr th:only-of-type {\n",
       "        vertical-align: middle;\n",
       "    }\n",
       "\n",
       "    .dataframe tbody tr th {\n",
       "        vertical-align: top;\n",
       "    }\n",
       "\n",
       "    .dataframe thead th {\n",
       "        text-align: right;\n",
       "    }\n",
       "</style>\n",
       "<table border=\"1\" class=\"dataframe\">\n",
       "  <thead>\n",
       "    <tr style=\"text-align: right;\">\n",
       "      <th></th>\n",
       "      <th>depth</th>\n",
       "      <th>ns_angle</th>\n",
       "      <th>vs_angle</th>\n",
       "      <th>ap_translation</th>\n",
       "      <th>ml_translation</th>\n",
       "      <th>ray_dist</th>\n",
       "      <th>name</th>\n",
       "      <th>ns_angle_orig</th>\n",
       "      <th>vs_angle_orig</th>\n",
       "    </tr>\n",
       "  </thead>\n",
       "  <tbody>\n",
       "    <tr>\n",
       "      <th>0</th>\n",
       "      <td>-5</td>\n",
       "      <td>-10</td>\n",
       "      <td>-10</td>\n",
       "      <td>-5</td>\n",
       "      <td>-5</td>\n",
       "      <td>39.094397</td>\n",
       "      <td>S202501L_trab</td>\n",
       "      <td>130.752263</td>\n",
       "      <td>49.570700</td>\n",
       "    </tr>\n",
       "    <tr>\n",
       "      <th>1</th>\n",
       "      <td>-5</td>\n",
       "      <td>-10</td>\n",
       "      <td>-10</td>\n",
       "      <td>-5</td>\n",
       "      <td>-4</td>\n",
       "      <td>38.368834</td>\n",
       "      <td>S202501L_trab</td>\n",
       "      <td>130.752263</td>\n",
       "      <td>49.570700</td>\n",
       "    </tr>\n",
       "    <tr>\n",
       "      <th>2</th>\n",
       "      <td>-5</td>\n",
       "      <td>-10</td>\n",
       "      <td>-10</td>\n",
       "      <td>-5</td>\n",
       "      <td>-3</td>\n",
       "      <td>37.698466</td>\n",
       "      <td>S202501L_trab</td>\n",
       "      <td>130.752263</td>\n",
       "      <td>49.570700</td>\n",
       "    </tr>\n",
       "    <tr>\n",
       "      <th>3</th>\n",
       "      <td>-5</td>\n",
       "      <td>-10</td>\n",
       "      <td>-10</td>\n",
       "      <td>-5</td>\n",
       "      <td>-2</td>\n",
       "      <td>37.002025</td>\n",
       "      <td>S202501L_trab</td>\n",
       "      <td>130.752263</td>\n",
       "      <td>49.570700</td>\n",
       "    </tr>\n",
       "    <tr>\n",
       "      <th>4</th>\n",
       "      <td>-5</td>\n",
       "      <td>-10</td>\n",
       "      <td>-10</td>\n",
       "      <td>-5</td>\n",
       "      <td>-1</td>\n",
       "      <td>36.318150</td>\n",
       "      <td>S202501L_trab</td>\n",
       "      <td>130.752263</td>\n",
       "      <td>49.570700</td>\n",
       "    </tr>\n",
       "    <tr>\n",
       "      <th>...</th>\n",
       "      <td>...</td>\n",
       "      <td>...</td>\n",
       "      <td>...</td>\n",
       "      <td>...</td>\n",
       "      <td>...</td>\n",
       "      <td>...</td>\n",
       "      <td>...</td>\n",
       "      <td>...</td>\n",
       "      <td>...</td>\n",
       "    </tr>\n",
       "    <tr>\n",
       "      <th>586966</th>\n",
       "      <td>5</td>\n",
       "      <td>10</td>\n",
       "      <td>10</td>\n",
       "      <td>5</td>\n",
       "      <td>1</td>\n",
       "      <td>30.992991</td>\n",
       "      <td>171263R_trab</td>\n",
       "      <td>128.063086</td>\n",
       "      <td>33.544032</td>\n",
       "    </tr>\n",
       "    <tr>\n",
       "      <th>586967</th>\n",
       "      <td>5</td>\n",
       "      <td>10</td>\n",
       "      <td>10</td>\n",
       "      <td>5</td>\n",
       "      <td>2</td>\n",
       "      <td>30.719992</td>\n",
       "      <td>171263R_trab</td>\n",
       "      <td>128.063086</td>\n",
       "      <td>33.544032</td>\n",
       "    </tr>\n",
       "    <tr>\n",
       "      <th>586968</th>\n",
       "      <td>5</td>\n",
       "      <td>10</td>\n",
       "      <td>10</td>\n",
       "      <td>5</td>\n",
       "      <td>3</td>\n",
       "      <td>30.456661</td>\n",
       "      <td>171263R_trab</td>\n",
       "      <td>128.063086</td>\n",
       "      <td>33.544032</td>\n",
       "    </tr>\n",
       "    <tr>\n",
       "      <th>586969</th>\n",
       "      <td>5</td>\n",
       "      <td>10</td>\n",
       "      <td>10</td>\n",
       "      <td>5</td>\n",
       "      <td>4</td>\n",
       "      <td>30.131276</td>\n",
       "      <td>171263R_trab</td>\n",
       "      <td>128.063086</td>\n",
       "      <td>33.544032</td>\n",
       "    </tr>\n",
       "    <tr>\n",
       "      <th>586970</th>\n",
       "      <td>5</td>\n",
       "      <td>10</td>\n",
       "      <td>10</td>\n",
       "      <td>5</td>\n",
       "      <td>5</td>\n",
       "      <td>29.784125</td>\n",
       "      <td>171263R_trab</td>\n",
       "      <td>128.063086</td>\n",
       "      <td>33.544032</td>\n",
       "    </tr>\n",
       "  </tbody>\n",
       "</table>\n",
       "<p>20543985 rows × 9 columns</p>\n",
       "</div>"
      ],
      "text/plain": [
       "        depth  ns_angle  vs_angle  ap_translation  ml_translation   ray_dist  \\\n",
       "0          -5       -10       -10              -5              -5  39.094397   \n",
       "1          -5       -10       -10              -5              -4  38.368834   \n",
       "2          -5       -10       -10              -5              -3  37.698466   \n",
       "3          -5       -10       -10              -5              -2  37.002025   \n",
       "4          -5       -10       -10              -5              -1  36.318150   \n",
       "...       ...       ...       ...             ...             ...        ...   \n",
       "586966      5        10        10               5               1  30.992991   \n",
       "586967      5        10        10               5               2  30.719992   \n",
       "586968      5        10        10               5               3  30.456661   \n",
       "586969      5        10        10               5               4  30.131276   \n",
       "586970      5        10        10               5               5  29.784125   \n",
       "\n",
       "                 name  ns_angle_orig  vs_angle_orig  \n",
       "0       S202501L_trab     130.752263      49.570700  \n",
       "1       S202501L_trab     130.752263      49.570700  \n",
       "2       S202501L_trab     130.752263      49.570700  \n",
       "3       S202501L_trab     130.752263      49.570700  \n",
       "4       S202501L_trab     130.752263      49.570700  \n",
       "...               ...            ...            ...  \n",
       "586966   171263R_trab     128.063086      33.544032  \n",
       "586967   171263R_trab     128.063086      33.544032  \n",
       "586968   171263R_trab     128.063086      33.544032  \n",
       "586969   171263R_trab     128.063086      33.544032  \n",
       "586970   171263R_trab     128.063086      33.544032  \n",
       "\n",
       "[20543985 rows x 9 columns]"
      ]
     },
     "execution_count": 18,
     "metadata": {},
     "output_type": "execute_result"
    }
   ],
   "source": [
    "df = pd.read_parquet('data/trab_rays.parquet')\n",
    "df"
   ]
  },
  {
   "cell_type": "code",
   "execution_count": 25,
   "metadata": {},
   "outputs": [],
   "source": [
    "# split\n",
    "features = ['depth','ns_angle','vs_angle','ap_translation','ml_translation']\n",
    "features = ['ns_angle']\n",
    "X = df[features].values\n",
    "y = df[['ray_dist']].values.flatten()\n",
    "X_train, X_test, y_train, y_test = train_test_split(X, y, test_size=0.2, random_state=42)\n",
    "\n",
    "# # scale\n",
    "# scaler = sklearn.preprocessing.MinMaxScaler()\n",
    "# X_train = scaler.fit_transform(X_train)\n",
    "# X_test = scaler.transform(X_test)"
   ]
  },
  {
   "cell_type": "code",
   "execution_count": 26,
   "metadata": {},
   "outputs": [
    {
     "data": {
      "text/html": [
       "<style>#sk-container-id-7 {color: black;}#sk-container-id-7 pre{padding: 0;}#sk-container-id-7 div.sk-toggleable {background-color: white;}#sk-container-id-7 label.sk-toggleable__label {cursor: pointer;display: block;width: 100%;margin-bottom: 0;padding: 0.3em;box-sizing: border-box;text-align: center;}#sk-container-id-7 label.sk-toggleable__label-arrow:before {content: \"▸\";float: left;margin-right: 0.25em;color: #696969;}#sk-container-id-7 label.sk-toggleable__label-arrow:hover:before {color: black;}#sk-container-id-7 div.sk-estimator:hover label.sk-toggleable__label-arrow:before {color: black;}#sk-container-id-7 div.sk-toggleable__content {max-height: 0;max-width: 0;overflow: hidden;text-align: left;background-color: #f0f8ff;}#sk-container-id-7 div.sk-toggleable__content pre {margin: 0.2em;color: black;border-radius: 0.25em;background-color: #f0f8ff;}#sk-container-id-7 input.sk-toggleable__control:checked~div.sk-toggleable__content {max-height: 200px;max-width: 100%;overflow: auto;}#sk-container-id-7 input.sk-toggleable__control:checked~label.sk-toggleable__label-arrow:before {content: \"▾\";}#sk-container-id-7 div.sk-estimator input.sk-toggleable__control:checked~label.sk-toggleable__label {background-color: #d4ebff;}#sk-container-id-7 div.sk-label input.sk-toggleable__control:checked~label.sk-toggleable__label {background-color: #d4ebff;}#sk-container-id-7 input.sk-hidden--visually {border: 0;clip: rect(1px 1px 1px 1px);clip: rect(1px, 1px, 1px, 1px);height: 1px;margin: -1px;overflow: hidden;padding: 0;position: absolute;width: 1px;}#sk-container-id-7 div.sk-estimator {font-family: monospace;background-color: #f0f8ff;border: 1px dotted black;border-radius: 0.25em;box-sizing: border-box;margin-bottom: 0.5em;}#sk-container-id-7 div.sk-estimator:hover {background-color: #d4ebff;}#sk-container-id-7 div.sk-parallel-item::after {content: \"\";width: 100%;border-bottom: 1px solid gray;flex-grow: 1;}#sk-container-id-7 div.sk-label:hover label.sk-toggleable__label {background-color: #d4ebff;}#sk-container-id-7 div.sk-serial::before {content: \"\";position: absolute;border-left: 1px solid gray;box-sizing: border-box;top: 0;bottom: 0;left: 50%;z-index: 0;}#sk-container-id-7 div.sk-serial {display: flex;flex-direction: column;align-items: center;background-color: white;padding-right: 0.2em;padding-left: 0.2em;position: relative;}#sk-container-id-7 div.sk-item {position: relative;z-index: 1;}#sk-container-id-7 div.sk-parallel {display: flex;align-items: stretch;justify-content: center;background-color: white;position: relative;}#sk-container-id-7 div.sk-item::before, #sk-container-id-7 div.sk-parallel-item::before {content: \"\";position: absolute;border-left: 1px solid gray;box-sizing: border-box;top: 0;bottom: 0;left: 50%;z-index: -1;}#sk-container-id-7 div.sk-parallel-item {display: flex;flex-direction: column;z-index: 1;position: relative;background-color: white;}#sk-container-id-7 div.sk-parallel-item:first-child::after {align-self: flex-end;width: 50%;}#sk-container-id-7 div.sk-parallel-item:last-child::after {align-self: flex-start;width: 50%;}#sk-container-id-7 div.sk-parallel-item:only-child::after {width: 0;}#sk-container-id-7 div.sk-dashed-wrapped {border: 1px dashed gray;margin: 0 0.4em 0.5em 0.4em;box-sizing: border-box;padding-bottom: 0.4em;background-color: white;}#sk-container-id-7 div.sk-label label {font-family: monospace;font-weight: bold;display: inline-block;line-height: 1.2em;}#sk-container-id-7 div.sk-label-container {text-align: center;}#sk-container-id-7 div.sk-container {/* jupyter's `normalize.less` sets `[hidden] { display: none; }` but bootstrap.min.css set `[hidden] { display: none !important; }` so we also need the `!important` here to be able to override the default hidden behavior on the sphinx rendered scikit-learn.org. See: https://github.com/scikit-learn/scikit-learn/issues/21755 */display: inline-block !important;position: relative;}#sk-container-id-7 div.sk-text-repr-fallback {display: none;}</style><div id=\"sk-container-id-7\" class=\"sk-top-container\"><div class=\"sk-text-repr-fallback\"><pre>LinearRegression()</pre><b>In a Jupyter environment, please rerun this cell to show the HTML representation or trust the notebook. <br />On GitHub, the HTML representation is unable to render, please try loading this page with nbviewer.org.</b></div><div class=\"sk-container\" hidden><div class=\"sk-item\"><div class=\"sk-estimator sk-toggleable\"><input class=\"sk-toggleable__control sk-hidden--visually\" id=\"sk-estimator-id-7\" type=\"checkbox\" checked><label for=\"sk-estimator-id-7\" class=\"sk-toggleable__label sk-toggleable__label-arrow\">LinearRegression</label><div class=\"sk-toggleable__content\"><pre>LinearRegression()</pre></div></div></div></div></div>"
      ],
      "text/plain": [
       "LinearRegression()"
      ]
     },
     "execution_count": 26,
     "metadata": {},
     "output_type": "execute_result"
    }
   ],
   "source": [
    "model = sklearn.linear_model.LinearRegression()\n",
    "model.fit(X_train, y_train)"
   ]
  },
  {
   "cell_type": "code",
   "execution_count": 27,
   "metadata": {},
   "outputs": [
    {
     "name": "stdout",
     "output_type": "stream",
     "text": [
      "r2: 0.12053807276449147\n",
      "mse: 30.22953755707617\n",
      "mae: 4.4011676398038695\n",
      "explained variance: 0.12053810097294293\n",
      "coefficients: [-0.33675887]\n"
     ]
    }
   ],
   "source": [
    "y_pred = model.predict(X_test)\n",
    "\n",
    "# metrics for regression\n",
    "print(f\"r2: {sklearn.metrics.r2_score(y_test, y_pred)}\")\n",
    "print(f\"mse: {sklearn.metrics.mean_squared_error(y_test, y_pred)}\")\n",
    "print(f\"mae: {sklearn.metrics.mean_absolute_error(y_test, y_pred)}\")\n",
    "print(f\"explained variance: {sklearn.metrics.explained_variance_score(y_test, y_pred)}\")\n",
    "\n",
    "# print out the coefficient\n",
    "print(f\"coefficients: {model.coef_}\")\n"
   ]
  },
  {
   "cell_type": "code",
   "execution_count": 30,
   "metadata": {},
   "outputs": [
    {
     "data": {
      "text/plain": [
       "[<matplotlib.lines.Line2D at 0x7f83002ba6d0>]"
      ]
     },
     "execution_count": 30,
     "metadata": {},
     "output_type": "execute_result"
    },
    {
     "data": {
      "image/png": "[encoded data removed]",
      "text/plain": [
       "<Figure size 640x480 with 1 Axes>"
      ]
     },
     "metadata": {},
     "output_type": "display_data"
    }
   ],
   "source": [
    "intercept = model.intercept_\n",
    "coefficient = model.coef_\n",
    "interval = np.linspace(0,1,100)\n",
    "f = intercept + coefficient * interval\n",
    "plt.plot(interval, f)\n"
   ]
  }
 ],
 "metadata": {
  "kernelspec": {
   "display_name": "base",
   "language": "python",
   "name": "python3"
  },
  "language_info": {
   "codemirror_mode": {
    "name": "ipython",
    "version": 3
   },
   "file_extension": ".py",
   "mimetype": "text/x-python",
   "name": "python",
   "nbconvert_exporter": "python",
   "pygments_lexer": "ipython3",
   "version": "3.11.5"
  },
  "orig_nbformat": 4
 },
 "nbformat": 4,
 "nbformat_minor": 2
}
